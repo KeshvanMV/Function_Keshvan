{
  "nbformat": 4,
  "nbformat_minor": 0,
  "metadata": {
    "colab": {
      "provenance": []
    },
    "kernelspec": {
      "name": "python3",
      "display_name": "Python 3"
    },
    "language_info": {
      "name": "python"
    }
  },
  "cells": [
    {
      "cell_type": "code",
      "execution_count": null,
      "metadata": {
        "colab": {
          "base_uri": "https://localhost:8080/"
        },
        "id": "fL5mu3G_1pDk",
        "outputId": "a0d9e2f1-013f-4365-d91c-143005427df7"
      },
      "outputs": [
        {
          "output_type": "stream",
          "name": "stdout",
          "text": [
            "12\n"
          ]
        }
      ],
      "source": [
        "\"\"\"Question 1:  Write a Python function that takes a list of numbers as input and returns the sum of all even numbers in the list.\"\"\"\n",
        "\n",
        "# List of numbers to process\n",
        "numbers = [1, 2, 3, 4, 5, 6]\n",
        "\n",
        "def add_even_numbers(numbers):\n",
        "    # Create an empty list to store even numbers\n",
        "    even_numbers = []\n",
        "\n",
        "    # Iterate through the list and add even numbers to even_numbers\n",
        "    for num in numbers:\n",
        "        if num % 2 == 0:\n",
        "            even_numbers.append(num)\n",
        "\n",
        "    # Return the sum of the even numbers\n",
        "    return sum(even_numbers)\n",
        "\n",
        "# Call the function and print the result\n",
        "print(add_even_numbers(numbers))\n"
      ]
    },
    {
      "cell_type": "code",
      "source": [
        "\"\"\" Question 2:  Create a Python function that accepts a string and returns the reverse of that string.\"\"\"\n",
        "\n",
        "# Function to reverse a given string\n",
        "def str_reverse(s):\n",
        "    return s[::-1]  # Slice the string from end to start\n",
        "\n",
        "# Get user input\n",
        "input_word = input(\"Enter a word: \")\n",
        "\n",
        "# Reverse the input string\n",
        "reversed_str = str_reverse(input_word)\n",
        "\n",
        "# Display the reversed string\n",
        "print(\"The reversed word is:\", reversed_str)\n"
      ],
      "metadata": {
        "colab": {
          "base_uri": "https://localhost:8080/"
        },
        "id": "QBhK3Nxv1_P7",
        "outputId": "5612ca00-d7dd-48cb-b8eb-4027ed011659"
      },
      "execution_count": null,
      "outputs": [
        {
          "output_type": "stream",
          "name": "stdout",
          "text": [
            "Enter a word: rats\n",
            "The reversed word is: star\n"
          ]
        }
      ]
    },
    {
      "cell_type": "code",
      "source": [
        "\"\"\" Question 3:  Implement a Python function that takes a list of integers and returns a new list containing the squares of each number.\"\"\"\n",
        "\n",
        "# Function to square each number in a list\n",
        "def square_numbers(numbers):\n",
        "    squared_numbers = []  # Create an empty list to store squared numbers\n",
        "    for num in numbers:\n",
        "        squared_numbers.append(num ** 2)  # Square the number and add it to the list\n",
        "    return squared_numbers  # Return the list of squared numbers\n",
        "\n",
        "# List of numbers to be squared\n",
        "numbers = [1, 2, 3, 4, 5]\n",
        "\n",
        "# Call the function and store the result\n",
        "squared_numbers = square_numbers(numbers)\n",
        "\n",
        "# Print the list of squared numbers\n",
        "print(\"Squared numbers are:\", squared_numbers)\n"
      ],
      "metadata": {
        "colab": {
          "base_uri": "https://localhost:8080/"
        },
        "id": "eO-SqVaj2Z-V",
        "outputId": "50ee79fd-dd23-4701-b501-c07d1db86645"
      },
      "execution_count": null,
      "outputs": [
        {
          "output_type": "stream",
          "name": "stdout",
          "text": [
            "Squared numbers are: [1, 4, 9, 16, 25]\n"
          ]
        }
      ]
    },
    {
      "cell_type": "code",
      "source": [
        "\"\"\"\n",
        "Q4: Write a Python function that checks if a given number is prime or not from 1 to 200.\n",
        "\"\"\"\n",
        "\n",
        "# Function to check if a number is prime\n",
        "def check_prime(x):\n",
        "    if x <= 1:\n",
        "        return False  # 0 and 1 are not prime numbers\n",
        "    if x == 2:\n",
        "        return True  # 2 is a prime number\n",
        "    if x % 2 == 0:\n",
        "        return False  # Exclude even numbers greater than 2\n",
        "\n",
        "    max_range = int(x ** 0.5) + 1  # Only check up to the square root of x\n",
        "    for i in range(3, max_range, 2):\n",
        "        if x % i == 0:\n",
        "            return False  # If divisible, it's not prime\n",
        "    return True  # If no divisors found, it's prime\n",
        "\n",
        "# Function to generate a list of prime numbers from 1 to 200\n",
        "def prime_list():\n",
        "    prime = []  # Initialize an empty list to store prime numbers\n",
        "    for num in range(1, 201):\n",
        "        if check_prime(num):\n",
        "            prime.append(num)  # Append prime number to the list\n",
        "    return prime  # Return the list of prime numbers\n",
        "\n",
        "# Print the list of prime numbers from 1 to 200\n",
        "print(\"The prime numbers between 1 and 200 are:\", prime_list())\n"
      ],
      "metadata": {
        "colab": {
          "base_uri": "https://localhost:8080/"
        },
        "id": "FYxZCqtJ2xvM",
        "outputId": "50baee49-78ed-4f82-8016-52294027429f"
      },
      "execution_count": null,
      "outputs": [
        {
          "output_type": "stream",
          "name": "stdout",
          "text": [
            "The prime numbers between 1 and 200 are: [2, 3, 5, 7, 11, 13, 17, 19, 23, 29, 31, 37, 41, 43, 47, 53, 59, 61, 67, 71, 73, 79, 83, 89, 97, 101, 103, 107, 109, 113, 127, 131, 137, 139, 149, 151, 157, 163, 167, 173, 179, 181, 191, 193, 197, 199]\n"
          ]
        }
      ]
    },
    {
      "cell_type": "code",
      "source": [
        "\"\"\"\n",
        "Q5: Create an iterator class in Python that generates the Fibonacci sequence up to a specified number of terms.\n",
        "\"\"\"\n",
        "\n",
        "# Define the Fibonacci series class\n",
        "class Fiboseries:\n",
        "    def __init__(self, limit):\n",
        "        # Initialize with a limit for the number of terms\n",
        "        self.limit = limit\n",
        "        self.a, self.b = 0, 1  # Starting values for the Fibonacci sequence\n",
        "        self.count = 0  # Counter to track the number of generated terms\n",
        "\n",
        "    def __iter__(self):\n",
        "        # Return the iterator object (self)\n",
        "        return self\n",
        "\n",
        "    def __next__(self):\n",
        "        # Stop iteration if the limit is reached\n",
        "        if self.count >= self.limit:\n",
        "            raise StopIteration\n",
        "        elif self.count == 0:\n",
        "            self.count += 1\n",
        "            return self.a  # Return the first Fibonacci number\n",
        "        elif self.count == 1:\n",
        "            self.count += 1\n",
        "            return self.b  # Return the second Fibonacci number\n",
        "        else:\n",
        "            self.a, self.b = self.b, self.a + self.b  # Calculate the next number in the sequence\n",
        "            self.count += 1\n",
        "            return self.b  # Return the current Fibonacci number\n",
        "\n",
        "# Create an instance of the Fibonacci series with a specified limit\n",
        "fibonacci_series = Fiboseries(10)\n",
        "\n",
        "# Print each number in the Fibonacci series\n",
        "for nums in fibonacci_series:\n",
        "    print(nums, end=\" \")\n"
      ],
      "metadata": {
        "colab": {
          "base_uri": "https://localhost:8080/"
        },
        "id": "JcHfBJEv3Kbt",
        "outputId": "17948d7c-b6e5-4d61-f9cb-264af106457e"
      },
      "execution_count": null,
      "outputs": [
        {
          "output_type": "stream",
          "name": "stdout",
          "text": [
            "0 1 1 2 3 5 8 13 21 34 "
          ]
        }
      ]
    },
    {
      "cell_type": "code",
      "source": [
        "\"\"\"\n",
        "Q6 Write a generator function in Python that yields the powers of 2 up to a given exponent.\n",
        "\"\"\"\n",
        "\n",
        "def powers_of_two(exponent):\n",
        "    power = 0\n",
        "    while power <= exponent:\n",
        "        yield 2 ** power\n",
        "        power += 1\n",
        "\n",
        "# Get user input for the exponent\n",
        "exponent = int(input(\"Enter the exponent: \"))\n",
        "\n",
        "# Iterate through the generated powers of two and print each value\n",
        "for value in powers_of_two(exponent):\n",
        "    print(value)\n"
      ],
      "metadata": {
        "colab": {
          "base_uri": "https://localhost:8080/"
        },
        "id": "h1I3w11K3f-Y",
        "outputId": "4fdee3f7-d290-4f89-d325-86180c10a74a"
      },
      "execution_count": null,
      "outputs": [
        {
          "output_type": "stream",
          "name": "stdout",
          "text": [
            "Enter the exponent: 6\n",
            "1\n",
            "2\n",
            "4\n",
            "8\n",
            "16\n",
            "32\n",
            "64\n"
          ]
        }
      ]
    },
    {
      "cell_type": "code",
      "source": [
        "\"\"\"\n",
        "Q7: Implement a generator function that reads a file line by line and yields each line as a string.\n",
        "\"\"\"\n",
        "\n",
        "# Simulate a file with a list of strings\n",
        "file_lines = [\n",
        "    \"Hello, World!\",\n",
        "    \"This is the first line.\",\n",
        "    \"Here's the second line.\",\n",
        "    \"End of file.\"\n",
        "]\n",
        "\n",
        "# Define the generator function\n",
        "def file_reader(file_lines):\n",
        "    for line in file_lines:\n",
        "        yield line  # Yield each line one by one\n",
        "\n",
        "# Use the generator function to read lines\n",
        "line_read = file_reader(file_lines)\n",
        "\n",
        "# Print each line yielded by the generator\n",
        "for line in line_read:\n",
        "    print(line)\n"
      ],
      "metadata": {
        "colab": {
          "base_uri": "https://localhost:8080/"
        },
        "id": "BU5uiyK23xID",
        "outputId": "a6bd4647-d9c6-4486-c3b7-4707befee9d4"
      },
      "execution_count": null,
      "outputs": [
        {
          "output_type": "stream",
          "name": "stdout",
          "text": [
            "Hello, World!\n",
            "This is the first line.\n",
            "Here's the second line.\n",
            "End of file.\n"
          ]
        }
      ]
    },
    {
      "cell_type": "code",
      "source": [
        "\"\"\"\n",
        "Q8. Use a lambda function in Python to sort a list of tuples based on the second element of each tuple.\n",
        "\"\"\"\n",
        "\n",
        "# Define the function to sort tuples based on the second element\n",
        "def sorted_tuples(tuples):\n",
        "    return sorted(tuples, key=lambda x: x[1])\n",
        "\n",
        "# Example list of tuples\n",
        "tuples = ((2, 3), (8, 9), (10, 6))\n",
        "\n",
        "# Print the sorted tuples\n",
        "print(\"Sorted Tuples:\", sorted_tuples(tuples))\n"
      ],
      "metadata": {
        "colab": {
          "base_uri": "https://localhost:8080/"
        },
        "id": "0-DI7Llb39Ke",
        "outputId": "feace63c-565c-42d1-f534-9000d4e012da"
      },
      "execution_count": null,
      "outputs": [
        {
          "output_type": "stream",
          "name": "stdout",
          "text": [
            "Sorted Tuples: [(2, 3), (10, 6), (8, 9)]\n"
          ]
        }
      ]
    },
    {
      "cell_type": "code",
      "source": [
        "\"\"\"\n",
        "Q9. Write a Python program that uses `map()` to convert a list of temperatures from Celsius to Fahrenheit.\n",
        "\"\"\"\n",
        "\n",
        "# List of temperatures in Celsius\n",
        "celsius_list = [30, 32, 35]\n",
        "\n",
        "# Using map() with lambda to convert Celsius to Fahrenheit\n",
        "fahrenheit_list = list(map(lambda celsius: (celsius * 9/5) + 32, celsius_list))\n",
        "\n",
        "# Print the converted temperatures in Fahrenheit\n",
        "print(\"Temperatures in Fahrenheit:\", fahrenheit_list)\n"
      ],
      "metadata": {
        "colab": {
          "base_uri": "https://localhost:8080/"
        },
        "id": "3W_p81de4bkU",
        "outputId": "f6b3ad3e-f60e-468e-bb5b-5711f20a0aa7"
      },
      "execution_count": null,
      "outputs": [
        {
          "output_type": "stream",
          "name": "stdout",
          "text": [
            "Temperatures in Fahrenheit: [86.0, 89.6, 95.0]\n"
          ]
        }
      ]
    },
    {
      "cell_type": "code",
      "source": [
        "\"\"\"\n",
        "Q11. Write a Python program, which returns a list with 2-tuples. Each tuple consists of the order number and the\n",
        "product of the price per item and the quantity. The product should be increased by 10,- € if the value of the\n",
        "order is smaller than 100,00 €.\n",
        "\n",
        "Write a Python program using lambda and map.\n",
        "\"\"\"\n",
        "\n",
        "# List of orders with order number, product, quantity, and price per item\n",
        "orders = [\n",
        "    [34587, \"Learning Python, Mark Lutz\", 4, 40.95],\n",
        "    [98762, \"Programming Python, Mark Lutz\", 5, 56.80],\n",
        "    [77226, \"Head First Python, Paul Barry\", 3, 32.95],\n",
        "    [88112, \"Einführung in Python3, Bernd Klein\", 3, 24.99]\n",
        "]\n",
        "\n",
        "# Function to calculate the order cost and apply the discount if total cost is less than 100\n",
        "def order_cost(order):\n",
        "    order_num, _, quantity, price = order  # Unpack order details\n",
        "    total_cost = quantity * price\n",
        "    if total_cost < 100.00:\n",
        "        total_cost += 10.00\n",
        "    return (order_num, total_cost)\n",
        "\n",
        "# Using map() with lambda to apply the order_cost function to each order\n",
        "result = list(map(lambda order: order_cost(order), orders))\n",
        "\n",
        "# Print the resulting list of tuples\n",
        "print(\"Order details with total costs:\")\n",
        "for item in result:\n",
        "    print(item)\n"
      ],
      "metadata": {
        "colab": {
          "base_uri": "https://localhost:8080/"
        },
        "id": "axXGJN1B4km3",
        "outputId": "1ba67d71-6ddf-4971-d2fa-e6dbd22e242f"
      },
      "execution_count": null,
      "outputs": [
        {
          "output_type": "stream",
          "name": "stdout",
          "text": [
            "Order details with total costs:\n",
            "(34587, 163.8)\n",
            "(98762, 284.0)\n",
            "(77226, 108.85000000000001)\n",
            "(88112, 84.97)\n"
          ]
        }
      ]
    },
    {
      "cell_type": "code",
      "source": [],
      "metadata": {
        "id": "Tr213jUP4qwl"
      },
      "execution_count": null,
      "outputs": []
    }
  ]
}